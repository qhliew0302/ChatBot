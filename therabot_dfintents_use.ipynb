{
  "cells": [
    {
      "cell_type": "code",
      "execution_count": null,
      "metadata": {
        "id": "LwHq0RWSDSPg",
        "colab": {
          "base_uri": "https://localhost:8080/"
        },
        "outputId": "64d76655-3ab8-460b-86dc-960e12421b11"
      },
      "outputs": [
        {
          "output_type": "stream",
          "name": "stdout",
          "text": [
            "Drive already mounted at /content/drive/; to attempt to forcibly remount, call drive.mount(\"/content/drive/\", force_remount=True).\n"
          ]
        }
      ],
      "source": [
        "from google.colab import drive\n",
        "drive.mount('/content/drive/')"
      ]
    },
    {
      "cell_type": "code",
      "execution_count": null,
      "metadata": {
        "colab": {
          "base_uri": "https://localhost:8080/"
        },
        "id": "ytRZZ-GmEurS",
        "outputId": "27288a99-de33-4764-d4fe-e5bc39f7005f"
      },
      "outputs": [
        {
          "output_type": "stream",
          "name": "stdout",
          "text": [
            "/content/drive/My Drive/Colab Notebooks\n"
          ]
        }
      ],
      "source": [
        "%cd /content/drive/My Drive/Colab Notebooks/"
      ]
    },
    {
      "cell_type": "code",
      "execution_count": null,
      "metadata": {
        "colab": {
          "base_uri": "https://localhost:8080/"
        },
        "id": "WsPe7U5RE6Lg",
        "outputId": "0ecd1403-9e04-4885-f84b-852f43f6bdd8"
      },
      "outputs": [
        {
          "output_type": "stream",
          "name": "stdout",
          "text": [
            "Start messaging with the bot (type quit to stop)!\n",
            "User: im sad\n",
            "1\n",
            "ChatBot: You are sad\n",
            "User: im depressed\n",
            "2\n",
            "ChatBot: You are sad\n",
            "User: im happy\n",
            "3\n",
            "ChatBot: You are sad\n",
            "User: quit\n",
            "ChatBot: You seem to be really sad, maybe consult a therapist or talk to a close friend\n"
          ]
        }
      ],
      "source": [
        "import json \n",
        "import numpy as np\n",
        "from tensorflow import keras\n",
        "from sklearn.preprocessing import LabelEncoder\n",
        "\n",
        "import random\n",
        "import pickle\n",
        "\n",
        "emotion_scores = {\n",
        "    \"sad\" : 0,\n",
        "    \"joy\" : 0, \n",
        "    \"angry\" : 0, \n",
        "    \"fear\" : 0,\n",
        "    \"greetings\" : 0, \n",
        "    \"farewell\" : 0,\n",
        "    \"thanks\" : 0\n",
        "}\n",
        "\n",
        "with open(\"dialogflowintents.json\") as file:\n",
        "    data = json.load(file)\n",
        "\n",
        "\n",
        "def chat():\n",
        "    # load trained model\n",
        "    model = keras.models.load_model('therabot_dfintents_model')\n",
        "\n",
        "    # load tokenizer object\n",
        "    with open('tokenizer.pickle', 'rb') as handle:\n",
        "        tokenizer = pickle.load(handle)\n",
        "\n",
        "    # load label encoder object\n",
        "    with open('label_encoder.pickle', 'rb') as enc:\n",
        "        lbl_encoder = pickle.load(enc)\n",
        "\n",
        "    # parameters\n",
        "    max_len = 20\n",
        "    \n",
        "    while True:\n",
        "        print(\"User: \", end=\"\")\n",
        "        inp = input()\n",
        "        if inp.lower() == \"quit\":\n",
        "            #make function\n",
        "            highest_value = 0\n",
        "            for key in emotion_scores.keys():\n",
        "              if emotion_scores[key] >= highest_value:\n",
        "                highest_value = emotion_scores[key]\n",
        "                highest_key = key\n",
        "            #make function\n",
        "            if highest_key == 'sad':\n",
        "              print(\"ChatBot: You seem to be really sad, maybe consult a therapist or talk to a close friend\")\n",
        "            elif highest_key == 'joy':\n",
        "              print(\"You seem to be in a good mood, hope you feel this way always!\")\n",
        "            elif highest_key == 'angry':\n",
        "              print(\"You seem agitated right now, take a deep breath\")\n",
        "            elif highest_key == 'fear':\n",
        "              print(\"I understand you feel scared, this too shall pass.\")\n",
        "            else:\n",
        "              print(\"Goodbye! Take care\")\n",
        "            break\n",
        "\n",
        "        result = model.predict(keras.preprocessing.sequence.pad_sequences(tokenizer.texts_to_sequences([inp]),\n",
        "                                             truncating='post', maxlen=max_len))\n",
        "        tag = lbl_encoder.inverse_transform([np.argmax(result)])\n",
        "\n",
        "        for i in data['intents']:\n",
        "            if i['tag'] == tag:\n",
        "                #make function\n",
        "                emotion_scores[tag[0]]+=1\n",
        "                print(emotion_scores[tag[0]])\n",
        "                print(\"ChatBot:\", np.random.choice(i['responses']))\n",
        "\n",
        "print(\"Start messaging with the bot (type quit to stop)!\")\n",
        "chat()"
      ]
    }
  ],
  "metadata": {
    "colab": {
      "name": "therabot_dfintents_use.ipynb",
      "provenance": [],
      "collapsed_sections": []
    },
    "kernelspec": {
      "display_name": "Python 3",
      "name": "python3"
    },
    "language_info": {
      "name": "python"
    }
  },
  "nbformat": 4,
  "nbformat_minor": 0
}