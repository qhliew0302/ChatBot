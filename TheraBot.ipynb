{
  "cells": [
    {
      "cell_type": "code",
      "source": [
        "from google.colab import drive\n",
        "drive.mount('/content/drive/')\n",
        "\n",
        "%cd /content/drive/My Drive/Colab Notebooks/TheraBot-main"
      ],
      "metadata": {
        "colab": {
          "base_uri": "https://localhost:8080/"
        },
        "id": "zk2biptH80Me",
        "outputId": "437c6dfa-7b96-4855-b90c-ab421b045a7a"
      },
      "id": "zk2biptH80Me",
      "execution_count": 4,
      "outputs": [
        {
          "output_type": "stream",
          "name": "stdout",
          "text": [
            "Drive already mounted at /content/drive/; to attempt to forcibly remount, call drive.mount(\"/content/drive/\", force_remount=True).\n",
            "/content/drive/My Drive/Colab Notebooks/TheraBot-main\n"
          ]
        }
      ]
    },
    {
      "cell_type": "code",
      "execution_count": 5,
      "id": "bc8a3b28",
      "metadata": {
        "id": "bc8a3b28"
      },
      "outputs": [],
      "source": [
        "import keras\n",
        "from keras.models import load_model\n",
        "from sklearn.metrics import classification_report, confusion_matrix\n",
        "import matplotlib.pyplot as plt\n",
        "import numpy as np\n",
        "%config InlineBackend.figure_format = 'retina'\n",
        "import itertools, pickle\n",
        "\n",
        "with open('tokenizer.pickle', 'rb') as handle:\n",
        "    tokenizer = pickle.load(handle)\n",
        "\n",
        "classes = [\"neutral\", \"happy\", \"sad\", \"love\", \"anger\"]"
      ]
    },
    {
      "cell_type": "code",
      "execution_count": 6,
      "id": "c1429ffa",
      "metadata": {
        "id": "c1429ffa"
      },
      "outputs": [],
      "source": [
        "model = load_model(\"therabot.h5\")"
      ]
    },
    {
      "cell_type": "code",
      "execution_count": 7,
      "id": "d8bf0599",
      "metadata": {
        "id": "d8bf0599"
      },
      "outputs": [],
      "source": [
        "emotion_scores = {\n",
        "    \"neutral\" : 0,\n",
        "    \"happy\" : 0,\n",
        "    \"sad\" : 0,\n",
        "    \"love\" : 0,\n",
        "    \"anger\" : 0\n",
        "}\n",
        "\n",
        "def emotion_score(y_prob):\n",
        "    emotion_scores[\"neutral\"] += y_prob[0][0]\n",
        "    emotion_scores[\"happy\"] += y_prob[0][1]\n",
        "    emotion_scores[\"sad\"] += y_prob[0][2]\n",
        "    emotion_scores[\"love\"] += y_prob[0][3]\n",
        "    emotion_scores[\"anger\"] += y_prob[0][4]\n",
        "    \n",
        "def get_highest_key():\n",
        "  highest_value = 0\n",
        "  for key in emotion_scores.keys():\n",
        "    if emotion_scores[key] >= highest_value:\n",
        "      highest_value = emotion_scores[key]\n",
        "      highest_key = key\n",
        "  return highest_key\n",
        "\n",
        "def consolidation_message(highest_key):\n",
        "    if highest_key == 'neutral':\n",
        "      print(\"Therabot: There seem to be nothing going on right now. I hope nothing bad comes in your way \" + user_name)\n",
        "    elif highest_key == 'happy':\n",
        "      print(\"Therabot: \" + user_name + \"! You seem to be in a good mood, hope you feel this way always\")\n",
        "    elif highest_key == 'sad':\n",
        "      print(\"Therabot: \" + user_name + \", you seem to be really sad, maybe consult a therapist or talk to a close friend\")\n",
        "    elif highest_key == 'love':\n",
        "      print(\"Therabot: I am happy that you, \" + user_name + \"is deeply infatuated. I hope that your love stays blooming forever!\")\n",
        "    elif highest_key == 'anger':\n",
        "        print(\"Therabot: You seem to be really agitated right now. Take a deep breath and release your tension \" + user_name + \". Everything will be fine as time goes\")\n",
        "    else:\n",
        "      print(\"Goodbye \" + user_name + \"! Take care!\")\n",
        "    \n",
        "def reply(detected_intent):\n",
        "    if detected_intent == 'neutral':\n",
        "      print(\"Therabot: Neutral detected\")\n",
        "    elif detected_intent == 'happy':\n",
        "      print(\"Therabot: Happy detected!\")\n",
        "    elif detected_intent == 'sad':\n",
        "      print(\"Therabot: Sad detected\")\n",
        "    elif detected_intent == 'love':\n",
        "      print(\"Therabot: Love detected\")\n",
        "    elif detected_intent == 'anger':\n",
        "        print(\"Therabot: Anger detected\")\n",
        "    \n",
        "def fallback_intent():\n",
        "    print(\"Sorry I don't understand. Can you elaborate please?\")\n",
        "    \n",
        "def analyze_message(user_message):\n",
        "    text = [user_message]\n",
        "    sequences_test = tokenizer.texts_to_sequences(text)\n",
        "    MAX_SEQUENCE_LENGTH = 30\n",
        "    data_int_t = pad_sequences(sequences_test, padding='pre', maxlen=(MAX_SEQUENCE_LENGTH-5))\n",
        "    data_test = pad_sequences(data_int_t, padding='post', maxlen=(MAX_SEQUENCE_LENGTH))\n",
        "    return data_test\n",
        "\n",
        "def predict_emotion(data_test, y_prob):\n",
        "#     y_prob = model.predict(data_test)\n",
        "    for n, prediction in enumerate(y_prob):\n",
        "        pred = y_prob.argmax(axis=-1)[n]\n",
        "#         print(y_prob[0])\n",
        "    return pred"
      ]
    },
    {
      "cell_type": "code",
      "execution_count": 8,
      "id": "049c4723",
      "metadata": {
        "colab": {
          "base_uri": "https://localhost:8080/"
        },
        "id": "049c4723",
        "outputId": "16a6befd-4bec-4749-e9bf-af41e16d6134"
      },
      "outputs": [
        {
          "output_type": "stream",
          "name": "stdout",
          "text": [
            "Please enter your name: \n",
            "Brian\n",
            "Therabot: Welcome Brian, my name is TheraBot\n",
            "Therabot: How are you feeling Brian ?\n",
            "User: I am feeling great\n",
            "Therabot: Sad detected\n",
            "User: why u like this\n",
            "Therabot: Neutral detected\n",
            "User: haih\n",
            "Therabot: Neutral detected\n",
            "User: i am very dissapointed in u chatbot\n",
            "Therabot: Sad detected\n",
            "User: quit la diu\n",
            "Therabot: Neutral detected\n",
            "User: quit\n",
            "Therabot: Brian , you seem to be really sad, maybe consult a therapist or talk to a close friend\n"
          ]
        }
      ],
      "source": [
        "from keras.preprocessing.sequence import pad_sequences\n",
        "\n",
        "print(\"Please enter your name: \")\n",
        "user_name = input()\n",
        "print(\"Therabot: Welcome \" + user_name +  \", my name is TheraBot\")\n",
        "print(\"Therabot: How are you feeling \"+ user_name + \" ?\")\n",
        "while True:\n",
        "    print(\"User: \", end=\"\")\n",
        "    user_message = input()\n",
        "    if user_message!=\"quit\":\n",
        "        data_test = analyze_message(user_message)\n",
        "        y_prob = model.predict(data_test)\n",
        "        pred = predict_emotion(data_test,y_prob)\n",
        "        #print(y_prob[0])\n",
        "        highest_emotion_confidence = y_prob[0][pred]\n",
        "        if highest_emotion_confidence > 0.33:\n",
        "            reply(classes[pred]) \n",
        "        else:\n",
        "            fallback_intent()\n",
        "        emotion_score(y_prob)\n",
        "    elif user_message.lower() == \"quit\":\n",
        "        highest_key = get_highest_key()\n",
        "        consolidation_message(highest_key)\n",
        "        break"
      ]
    },
    {
      "cell_type": "code",
      "execution_count": 8,
      "id": "ba2dd556",
      "metadata": {
        "id": "ba2dd556"
      },
      "outputs": [],
      "source": [
        ""
      ]
    }
  ],
  "metadata": {
    "kernelspec": {
      "display_name": "Python 3 (ipykernel)",
      "language": "python",
      "name": "python3"
    },
    "language_info": {
      "codemirror_mode": {
        "name": "ipython",
        "version": 3
      },
      "file_extension": ".py",
      "mimetype": "text/x-python",
      "name": "python",
      "nbconvert_exporter": "python",
      "pygments_lexer": "ipython3",
      "version": "3.7.10"
    },
    "colab": {
      "name": "TheraBot.ipynb",
      "provenance": [],
      "collapsed_sections": []
    }
  },
  "nbformat": 4,
  "nbformat_minor": 5
}