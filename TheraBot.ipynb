{
  "cells": [
    {
      "cell_type": "code",
      "execution_count": null,
      "metadata": {
        "id": "wEGRi-Yf_z6o"
      },
      "outputs": [],
      "source": [
        "import json\n",
        "import random\n",
        "import pickle\n",
        "import numpy as np \n",
        "\n",
        "from sklearn.preprocessing import LabelEncoder\n",
        "from sklearn.linear_model import LogisticRegression\n",
        "from sklearn.naive_bayes import MultinomialNB\n",
        "\n",
        "from sklearn.feature_extraction.text import CountVectorizer\n",
        "from sklearn.model_selection import train_test_split\n",
        "from sklearn.metrics import accuracy_score, classification_report, confusion_matrix"
      ]
    },
    {
      "cell_type": "code",
      "execution_count": null,
      "metadata": {
        "colab": {
          "base_uri": "https://localhost:8080/"
        },
        "id": "-mUK2Cm_LyvI",
        "outputId": "7a6ff025-8593-40cb-f8c0-22b33941cc59"
      },
      "outputs": [
        {
          "output_type": "stream",
          "name": "stdout",
          "text": [
            "Mounted at /content/drive/\n"
          ]
        }
      ],
      "source": [
        "from google.colab import drive\n",
        "drive.mount('/content/drive/')"
      ]
    },
    {
      "cell_type": "code",
      "execution_count": null,
      "metadata": {
        "colab": {
          "base_uri": "https://localhost:8080/"
        },
        "id": "n76q3J6DL5Vf",
        "outputId": "d0b9a21f-373a-4442-c8ce-1466edbc8d6c"
      },
      "outputs": [
        {
          "output_type": "stream",
          "name": "stdout",
          "text": [
            "/content/drive/My Drive/Colab Notebooks\n"
          ]
        }
      ],
      "source": [
        "%cd /content/drive/My Drive/Colab Notebooks/"
      ]
    },
    {
      "cell_type": "code",
      "execution_count": null,
      "metadata": {
        "id": "KLWzQI_hL7Q2"
      },
      "outputs": [],
      "source": [
        "with open('dialogflowintents.json') as file:\n",
        "    data = json.load(file)"
      ]
    },
    {
      "cell_type": "code",
      "execution_count": null,
      "metadata": {
        "id": "cS6F5yJiA2Ta"
      },
      "outputs": [],
      "source": [
        "training_sentences = []\n",
        "training_labels = []\n",
        "labels = []\n",
        "responses = []\n",
        "\n",
        "for intent in data['intents']:\n",
        "    for pattern in intent['patterns']:\n",
        "        training_sentences.append(pattern)\n",
        "        training_labels.append(intent['tag'])\n",
        "    responses.append(intent['responses'])\n",
        "    \n",
        "    if intent['tag'] not in labels:\n",
        "        labels.append(intent['tag'])\n",
        "        \n",
        "num_classes = len(labels)"
      ]
    },
    {
      "cell_type": "code",
      "execution_count": null,
      "metadata": {
        "id": "nVhGKoFIN7Z3"
      },
      "outputs": [],
      "source": [
        "training_sentences #parallel with labels"
      ]
    },
    {
      "cell_type": "code",
      "execution_count": null,
      "metadata": {
        "id": "nSnpVaZNPApP"
      },
      "outputs": [],
      "source": [
        "training_labels #parallel with sentences"
      ]
    },
    {
      "cell_type": "code",
      "execution_count": null,
      "metadata": {
        "id": "O0ScRC8HPOLg"
      },
      "outputs": [],
      "source": [
        "responses"
      ]
    },
    {
      "cell_type": "code",
      "execution_count": null,
      "metadata": {
        "id": "d8WChTWdPeXa"
      },
      "outputs": [],
      "source": [
        "#creating features\n",
        "Xfeatures = training_sentences #need to be vectorized\n",
        "ylabels = training_labels #can remain as it is"
      ]
    },
    {
      "cell_type": "code",
      "execution_count": null,
      "metadata": {
        "id": "-bpHVSaLR-gI"
      },
      "outputs": [],
      "source": [
        "cv = CountVectorizer()"
      ]
    },
    {
      "cell_type": "code",
      "execution_count": null,
      "metadata": {
        "id": "BBMvJflzR_yu"
      },
      "outputs": [],
      "source": [
        "X = cv.fit_transform(Xfeatures)"
      ]
    },
    {
      "cell_type": "code",
      "execution_count": null,
      "metadata": {
        "colab": {
          "base_uri": "https://localhost:8080/"
        },
        "id": "RR6ldyv4SAFJ",
        "outputId": "53ac47aa-3660-4dc9-e5ca-3b847c4d5040"
      },
      "outputs": [
        {
          "output_type": "execute_result",
          "data": {
            "text/plain": [
              "MultinomialNB()"
            ]
          },
          "metadata": {},
          "execution_count": 12
        }
      ],
      "source": [
        "nv_model = MultinomialNB()\n",
        "nv_model.fit(X, ylabels)"
      ]
    },
    {
      "cell_type": "code",
      "execution_count": null,
      "metadata": {
        "id": "o5UfqjdzTQAp"
      },
      "outputs": [],
      "source": [
        "def reply(tag):\n",
        "  for i in data['intents']:\n",
        "    if i['tag'] == tag:\n",
        "      print(\"TheraBot:\", np.random.choice(i['responses']))"
      ]
    },
    {
      "cell_type": "code",
      "execution_count": null,
      "metadata": {
        "id": "Q9XAxCVJSAXr"
      },
      "outputs": [],
      "source": [
        "emotion_scores = {\n",
        "    \"angry\" : 0,\n",
        "    \"farewell\" : 0, \n",
        "    \"fear\" : 0, \n",
        "    \"greetings\" : 0,\n",
        "    \"joy\" : 0, \n",
        "    \"sad\" : 0,\n",
        "    \"thanks\" : 0\n",
        "}\n",
        "\n",
        "def predict_emotion_score(sample_text, model):\n",
        "    myvect = cv.transform(sample_text).toarray()\n",
        "    prediction = model.predict(myvect)\n",
        "    pred_proba = model.predict_proba(myvect)\n",
        "    pred_percentage_for_all = dict(zip(model.classes_, pred_proba[0]))\n",
        "    print(\"Prediction: {}, Prediction Score: {}\".format(prediction[0], np.max(pred_proba)))\n",
        "    emotion_scores['angry'] += pred_percentage_for_all['angry']\n",
        "    emotion_scores['farewell'] += pred_percentage_for_all['farewell']\n",
        "    emotion_scores['fear'] += pred_percentage_for_all['fear']\n",
        "    emotion_scores['greetings'] += pred_percentage_for_all['greetings']\n",
        "    emotion_scores['joy'] += pred_percentage_for_all['joy']\n",
        "    emotion_scores['sad'] += pred_percentage_for_all['sad']\n",
        "    emotion_scores['thanks'] += pred_percentage_for_all['thanks']\n",
        "    reply(prediction[0])\n",
        "    return pred_percentage_for_all"
      ]
    },
    {
      "cell_type": "code",
      "execution_count": null,
      "metadata": {
        "colab": {
          "base_uri": "https://localhost:8080/"
        },
        "id": "WsPe7U5RE6Lg",
        "outputId": "fdc1dde4-7537-482f-d83a-7b3140b50d07"
      },
      "outputs": [
        {
          "output_type": "stream",
          "name": "stdout",
          "text": [
            "Start messaging with the bot. Type 'quit' to end session. This conversation remains confidential.\n",
            "User: im happy\n",
            "Prediction: joy, Prediction Score: 0.3565995006959957\n",
            "TheraBot: You are happy\n",
            "User: im sad\n",
            "Prediction: sad, Prediction Score: 0.3180923260755737\n",
            "TheraBot: You are sad\n",
            "User: i dont feel good\n",
            "Prediction: sad, Prediction Score: 0.5675767283488105\n",
            "TheraBot: You are sad\n",
            "User: i feel good\n",
            "Prediction: sad, Prediction Score: 0.4390749661991964\n",
            "TheraBot: You are sad\n",
            "User: quit\n",
            "ChatBot: You seem to be really sad, maybe consult a therapist or talk to a close friend\n"
          ]
        }
      ],
      "source": [
        "def get_highest_key():\n",
        "  highest_value = 0\n",
        "  for key in emotion_scores.keys():\n",
        "    if emotion_scores[key] >= highest_value:\n",
        "      highest_value = emotion_scores[key]\n",
        "      highest_key = key\n",
        "  return highest_key\n",
        "\n",
        "def consolidation_message(highest_key):\n",
        "    if highest_key == 'sad':\n",
        "      print(\"ChatBot: You seem to be really sad, maybe consult a therapist or talk to a close friend\")\n",
        "    elif highest_key == 'joy':\n",
        "      print(\"You seem to be in a good mood, hope you feel this way always!\")\n",
        "    elif highest_key == 'angry':\n",
        "      print(\"You seem agitated right now, take a deep breath\")\n",
        "    elif highest_key == 'fear':\n",
        "      print(\"I understand you feel scared, this too shall pass.\")\n",
        "    else:\n",
        "      print(\"Goodbye! Take care\")\n",
        "\n",
        "def chat():\n",
        "    while True:\n",
        "        print(\"User: \", end=\"\")\n",
        "        user_message = input()\n",
        "        if user_message.lower() == \"quit\":\n",
        "            highest_key = get_highest_key()\n",
        "            consolidation_message(highest_key)\n",
        "            break\n",
        "        else:\n",
        "          predict_emotion_score([user_message], nv_model)\n",
        "\n",
        "print(\"Start messaging with the bot. Type 'quit' to end session. This conversation remains confidential.\")\n",
        "chat()"
      ]
    },
    {
      "cell_type": "code",
      "execution_count": null,
      "metadata": {
        "id": "t4r7coUovxW-"
      },
      "outputs": [],
      "source": [
        ""
      ]
    }
  ],
  "metadata": {
    "colab": {
      "collapsed_sections": [],
      "name": "TheraBot (json + weights + nv).ipynb",
      "provenance": []
    },
    "kernelspec": {
      "display_name": "Python 3",
      "name": "python3"
    },
    "language_info": {
      "name": "python"
    }
  },
  "nbformat": 4,
  "nbformat_minor": 0
}